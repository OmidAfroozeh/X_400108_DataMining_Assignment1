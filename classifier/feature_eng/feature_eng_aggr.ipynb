{
 "cells": [
  {
   "cell_type": "code",
   "execution_count": 1,
   "id": "4f4ceb07-8855-4aa9-89b1-2a9ffd184fb5",
   "metadata": {},
   "outputs": [],
   "source": [
    "import pandas as pd\n",
    "import matplotlib.pyplot as plt\n",
    "from sklearn.model_selection import train_test_split\n",
    "import numpy as np\n",
    "from collections import Counter\n",
    "from datetime import timedelta, datetime"
   ]
  },
  {
   "cell_type": "markdown",
   "id": "669e7b10-f8e1-4e2f-b726-250d43ed28b6",
   "metadata": {},
   "source": [
    "# Feature engineering"
   ]
  },
  {
   "cell_type": "code",
   "execution_count": 2,
   "id": "4f9b14d8-e8e7-49ef-a7a6-0612c6b27f26",
   "metadata": {},
   "outputs": [],
   "source": [
    "column_names = [\n",
    "        \"mood\",\n",
    "        \"circumplex.arousal\",\n",
    "        \"circumplex.valence\",\n",
    "        \"activity\",\n",
    "        \"screen\",\n",
    "        \"call\",\n",
    "        \"sms\",\n",
    "        \"appCat.builtin\",\n",
    "        \"appCat.communication\",\n",
    "        \"appCat.entertainment\",\n",
    "        \"appCat.finance\",\n",
    "        \"appCat.game\",\n",
    "        \"appCat.office\",\n",
    "        \"appCat.other\",\n",
    "        \"appCat.social\",\n",
    "        \"appCat.travel\",\n",
    "        \"appCat.unknown\",\n",
    "        \"appCat.utilities\",\n",
    "        \"appCat.weather\",\n",
    "        \"target_mood\"\n",
    "]\n",
    "\n",
    "\n",
    "def prepare_dataframe():\n",
    "    return pd.DataFrame(columns=column_names)\n",
    "\n",
    "\n",
    "# Time values should be added. Opposed to scores that should be averaged.\n",
    "def is_duration(column_name):\n",
    "    return column_name in [\"screen\", \"appCat.builtin\", \"appCat.communication\",\n",
    "                            \"appCat.entertainment\", \"appCat.finance\", \"appCat.game\",\n",
    "                            \"appCat.office\", \"appCat.other\", \"appCat.social\", \"appCat.travel\", \"appCat.unknown\",\n",
    "                            \"appCat.utilities\", \"appCat.weather\", \"call\", \"sms\"]\n",
    "\n",
    "\n",
    "\n",
    "# This makes sure that we will be fine if we try to get a group that does not exis\n",
    "def safe_get_group(grouped, key):\n",
    "    try:\n",
    "        return grouped.get_group(key)\n",
    "    except KeyError:\n",
    "        return pd.DataFrame(columns=grouped.obj.columns)"
   ]
  },
  {
   "cell_type": "code",
   "execution_count": 3,
   "id": "1b251f22-9596-4f3f-a5ae-59bee4420303",
   "metadata": {},
   "outputs": [],
   "source": [
    "df = pd.read_csv(\"../../datasets/dataset_mood_smartphone.csv\")\n",
    "# We have to turn time into date time to be able to work with it\n",
    "df['time']= pd.to_datetime(df['time'])\n",
    "# We don't care about exact times\n",
    "df['time'] = df['time'].dt.date\n",
    "\n",
    "\n",
    "# We will look into what each user did in what time individually\n",
    "grouped_df = df.groupby(['id', 'time'])"
   ]
  },
  {
   "cell_type": "code",
   "execution_count": 4,
   "id": "87f446d5-7bc9-4903-9c9e-59281dfbb7e7",
   "metadata": {},
   "outputs": [],
   "source": [
    "# In a window, we will look into what the user did and extract predictors\n",
    "\n",
    "def get_aggregated_values(user_id, curr_date, window):\n",
    "\n",
    "    \n",
    "    # Get the dates in the frame\n",
    "    dates = [curr_date - pd.DateOffset(days=x + 1) for x in range(window)]\n",
    "\n",
    "    # If user did not do something in the frame, consider it 0\n",
    "    result = {key: 0 for key in column_names}\n",
    "    \n",
    "    for date in dates:\n",
    "\n",
    "        # Get the activities the user did\n",
    "        group = safe_get_group(grouped_df, (user_id, pd.to_datetime(date).date()))\n",
    "\n",
    "\n",
    "        # For each possible activity\n",
    "        for key in column_names:\n",
    "            \n",
    "            # If the user did it\n",
    "            if key in group['variable'].values:\n",
    "\n",
    "                \n",
    "                # Get the values for user\n",
    "                values = group[group['variable'] == key]['value']\n",
    "\n",
    "                \n",
    "                # Add it if it should be added\n",
    "                if is_duration(key):\n",
    "                    result[key] = values.sum()\n",
    "\n",
    "                # Average it if it needs to be averages\n",
    "                else:\n",
    "                    result[key] = values.mean() if len(values) > 0 else None\n",
    "\n",
    "    # Return the features\n",
    "    return result\n",
    "    "
   ]
  },
  {
   "cell_type": "code",
   "execution_count": 5,
   "id": "bb1f3ddb-1f18-4dff-86b1-8193c99626a6",
   "metadata": {},
   "outputs": [],
   "source": [
    "# See what was the average mood of the user in the day\n",
    "# TODO: Make it categorical by rounding\n",
    "\n",
    "\n",
    "\n",
    "def get_mood(group, is_categorical):\n",
    "\n",
    "    mood_records = group[group['variable'] == 'mood']\n",
    "\n",
    "    mean_mood_date = mood_records['value'].mean()\n",
    "\n",
    "    return round(mean_mood_date) if is_categorical else mean_mood_date"
   ]
  },
  {
   "cell_type": "code",
   "execution_count": 6,
   "id": "59d6477c-238e-4e3a-8bfb-568cea490ff9",
   "metadata": {
    "scrolled": true
   },
   "outputs": [
    {
     "name": "stderr",
     "output_type": "stream",
     "text": [
      "/var/folders/_k/7r1hpdr948g6l1zkgksrm1j40000gn/T/ipykernel_39173/1202657209.py:35: FutureWarning: The behavior of DataFrame concatenation with empty or all-NA entries is deprecated. In a future version, this will no longer exclude empty or all-NA columns when determining the result dtypes. To retain the old behavior, exclude the relevant entries before the concat operation.\n",
      "  data = pd.concat([data, new_row], ignore_index=True)\n"
     ]
    }
   ],
   "source": [
    "date_window = 5\n",
    "categorical = False\n",
    "\n",
    "# Get empty dataframe\n",
    "data = prepare_dataframe()\n",
    "\n",
    "\n",
    "for ((user_id, date), group) in grouped_df:\n",
    "    \n",
    "    # For each user in each day\n",
    "    \n",
    "    for _, row in group.iterrows():\n",
    "\n",
    "        \n",
    "        # If the user had logged mood in a date at least once\n",
    "        if row['variable'] == 'mood':\n",
    "\n",
    "            # Get the average of that days moods for that user\n",
    "            # Consider this the label\n",
    "                \n",
    "            date_mood = get_mood(group, categorical)\n",
    "\n",
    "            # Get aggregated values for the rest of the activities of user in the window.\n",
    "            # Consider this the features\n",
    "\n",
    "            result = get_aggregated_values(user_id, date, date_window)\n",
    "            \n",
    "            # Put the user and target label values\n",
    "            # result['user'] = user_id\n",
    "            result['target_mood'] = date_mood\n",
    "\n",
    "            new_row = pd.DataFrame([result])\n",
    "\n",
    "            # Add the created record to the data\n",
    "            data = pd.concat([data, new_row], ignore_index=True)\n",
    "\n",
    "\n",
    "            # No need to look into that day anymore\n",
    "            break\n",
    "\n",
    "\n",
    "data.to_csv(f\"extracted_data/extracted_features_{'classification' if categorical else 'regression'}.csv\", index=False)"
   ]
  },
  {
   "cell_type": "code",
   "execution_count": 7,
   "id": "78e83f1a-471c-40aa-a6da-1cccb52ec0a3",
   "metadata": {},
   "outputs": [
    {
     "name": "stdout",
     "output_type": "stream",
     "text": [
      "Done\n"
     ]
    }
   ],
   "source": [
    "print(\"Done\")"
   ]
  },
  {
   "cell_type": "code",
   "execution_count": null,
   "id": "51902702-7f65-4d74-9a07-9083969fcb29",
   "metadata": {},
   "outputs": [],
   "source": []
  }
 ],
 "metadata": {
  "kernelspec": {
   "display_name": "Python 3 (ipykernel)",
   "language": "python",
   "name": "python3"
  },
  "language_info": {
   "codemirror_mode": {
    "name": "ipython",
    "version": 3
   },
   "file_extension": ".py",
   "mimetype": "text/x-python",
   "name": "python",
   "nbconvert_exporter": "python",
   "pygments_lexer": "ipython3",
   "version": "3.10.0"
  }
 },
 "nbformat": 4,
 "nbformat_minor": 5
}
