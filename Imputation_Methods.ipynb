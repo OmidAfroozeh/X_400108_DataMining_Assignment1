{
 "cells": [
  {
   "cell_type": "code",
   "execution_count": null,
   "id": "initial_id",
   "metadata": {
    "collapsed": true
   },
   "outputs": [],
   "source": []
  },
  {
   "cell_type": "code",
   "execution_count": 1,
   "outputs": [
    {
     "data": {
      "text/plain": "              id                     time        variable   value\n1        AS14.01  2014-02-26 13:00:00.000            mood   6.000\n2        AS14.01  2014-02-26 15:00:00.000            mood   6.000\n3        AS14.01  2014-02-26 18:00:00.000            mood   6.000\n4        AS14.01  2014-02-26 21:00:00.000            mood   7.000\n5        AS14.01  2014-02-27 09:00:00.000            mood   6.000\n...          ...                      ...             ...     ...\n2770399  AS14.30  2014-04-11 07:51:16.948  appCat.weather   8.032\n2772465  AS14.30  2014-04-19 11:00:32.747  appCat.weather   3.008\n2774026  AS14.30  2014-04-26 10:19:07.434  appCat.weather   7.026\n2774133  AS14.30  2014-04-27 00:44:48.450  appCat.weather  23.033\n2784435  AS14.32  2014-04-07 18:25:14.036  appCat.weather  22.431\n\n[376912 rows x 4 columns]",
      "text/html": "<div>\n<style scoped>\n    .dataframe tbody tr th:only-of-type {\n        vertical-align: middle;\n    }\n\n    .dataframe tbody tr th {\n        vertical-align: top;\n    }\n\n    .dataframe thead th {\n        text-align: right;\n    }\n</style>\n<table border=\"1\" class=\"dataframe\">\n  <thead>\n    <tr style=\"text-align: right;\">\n      <th></th>\n      <th>id</th>\n      <th>time</th>\n      <th>variable</th>\n      <th>value</th>\n    </tr>\n  </thead>\n  <tbody>\n    <tr>\n      <th>1</th>\n      <td>AS14.01</td>\n      <td>2014-02-26 13:00:00.000</td>\n      <td>mood</td>\n      <td>6.000</td>\n    </tr>\n    <tr>\n      <th>2</th>\n      <td>AS14.01</td>\n      <td>2014-02-26 15:00:00.000</td>\n      <td>mood</td>\n      <td>6.000</td>\n    </tr>\n    <tr>\n      <th>3</th>\n      <td>AS14.01</td>\n      <td>2014-02-26 18:00:00.000</td>\n      <td>mood</td>\n      <td>6.000</td>\n    </tr>\n    <tr>\n      <th>4</th>\n      <td>AS14.01</td>\n      <td>2014-02-26 21:00:00.000</td>\n      <td>mood</td>\n      <td>7.000</td>\n    </tr>\n    <tr>\n      <th>5</th>\n      <td>AS14.01</td>\n      <td>2014-02-27 09:00:00.000</td>\n      <td>mood</td>\n      <td>6.000</td>\n    </tr>\n    <tr>\n      <th>...</th>\n      <td>...</td>\n      <td>...</td>\n      <td>...</td>\n      <td>...</td>\n    </tr>\n    <tr>\n      <th>2770399</th>\n      <td>AS14.30</td>\n      <td>2014-04-11 07:51:16.948</td>\n      <td>appCat.weather</td>\n      <td>8.032</td>\n    </tr>\n    <tr>\n      <th>2772465</th>\n      <td>AS14.30</td>\n      <td>2014-04-19 11:00:32.747</td>\n      <td>appCat.weather</td>\n      <td>3.008</td>\n    </tr>\n    <tr>\n      <th>2774026</th>\n      <td>AS14.30</td>\n      <td>2014-04-26 10:19:07.434</td>\n      <td>appCat.weather</td>\n      <td>7.026</td>\n    </tr>\n    <tr>\n      <th>2774133</th>\n      <td>AS14.30</td>\n      <td>2014-04-27 00:44:48.450</td>\n      <td>appCat.weather</td>\n      <td>23.033</td>\n    </tr>\n    <tr>\n      <th>2784435</th>\n      <td>AS14.32</td>\n      <td>2014-04-07 18:25:14.036</td>\n      <td>appCat.weather</td>\n      <td>22.431</td>\n    </tr>\n  </tbody>\n</table>\n<p>376912 rows × 4 columns</p>\n</div>"
     },
     "execution_count": 1,
     "metadata": {},
     "output_type": "execute_result"
    }
   ],
   "source": [
    "import pandas as pd\n",
    "import numpy as np\n",
    "import matplotlib.pyplot as plt \n",
    "from datetime import datetime\n",
    "from scipy import stats\n",
    "\n",
    "df = pd.read_csv('datasets/dataset_mood_smartphone.csv', index_col=0)\n",
    "\n",
    "df\n"
   ],
   "metadata": {
    "collapsed": false,
    "ExecuteTime": {
     "end_time": "2024-04-21T13:46:53.104840Z",
     "start_time": "2024-04-21T13:46:51.842034Z"
    }
   },
   "id": "b3a877e9e5e4f07a"
  },
  {
   "cell_type": "code",
   "execution_count": 2,
   "outputs": [
    {
     "name": "stdout",
     "output_type": "stream",
     "text": [
      "Performance Metrics:\n",
      "KNN - MSE: 0.04718126433251966 MAE: 0.041947205883209736\n",
      "LOCF - MSE: 0.06017683146878383 MAE: 0.03581739444243955\n",
      "FOCB - MSE: 0.058913749548899316 MAE: 0.03563695416817034\n",
      "Mean - MSE: 0.04718126433251966 MAE: 0.041947205883209736\n",
      "Median - MSE: 0.07271743053049441 MAE: 0.0395164200649585\n",
      "Rolling Mean - MSE: 0.5304193732707808 MAE: 0.5298388066883195\n",
      "Rolling Median - MSE: 0.6555620714543486 MAE: 0.45818296643810896\n"
     ]
    },
    {
     "name": "stderr",
     "output_type": "stream",
     "text": [
      "/var/folders/2p/lk_7jyfx52g86tz59mc412p80000gn/T/ipykernel_30543/2724374530.py:13: FutureWarning: Series.fillna with 'method' is deprecated and will raise in a future version. Use obj.ffill() or obj.bfill() instead.\n",
      "  data['Value_LOCF'] = data['value'].fillna(method='ffill')\n",
      "/var/folders/2p/lk_7jyfx52g86tz59mc412p80000gn/T/ipykernel_30543/2724374530.py:16: FutureWarning: Series.fillna with 'method' is deprecated and will raise in a future version. Use obj.ffill() or obj.bfill() instead.\n",
      "  data['Value_FOCB'] = data['value'].fillna(method='bfill')\n"
     ]
    }
   ],
   "source": [
    "import pandas as pd\n",
    "import numpy as np\n",
    "from sklearn.impute import KNNImputer\n",
    "from sklearn.metrics import mean_squared_error, mean_absolute_error\n",
    "\n",
    "# Step 3: Implement Imputation Methods\n",
    "def knn_impute(data):\n",
    "    imputer = KNNImputer(n_neighbors=3)\n",
    "    imputed_data = imputer.fit_transform(data[['value']])\n",
    "    data['Value_KNN'] = imputed_data\n",
    "\n",
    "def locf_impute(data):\n",
    "    data['Value_LOCF'] = data['value'].fillna(method='ffill')\n",
    "\n",
    "def focb_impute(data):\n",
    "    data['Value_FOCB'] = data['value'].fillna(method='bfill')\n",
    "\n",
    "def mean_impute(data):\n",
    "    mean_value = data['value'].mean()\n",
    "    data['Value_Mean'] = data['value'].fillna(mean_value)\n",
    "\n",
    "def median_impute(data):\n",
    "    median_value = data['value'].median()\n",
    "    data['Value_Median'] = data['value'].fillna(median_value)\n",
    "\n",
    "def rolling_mean_impute(data, window_size):\n",
    "    data['Value_Rolling_Mean'] = data['value'].rolling(window=window_size, min_periods=1).mean()\n",
    "\n",
    "def rolling_median_impute(data, window_size):\n",
    "    data['Value_Rolling_Median'] = data['value'].rolling(window=window_size, min_periods=1).median()\n",
    "\n",
    "# Step 4: Calculate Performance Metrics\n",
    "def calculate_metrics(true_values, imputed_values):\n",
    "    mse = mean_squared_error(true_values, imputed_values)\n",
    "    mae = mean_absolute_error(true_values, imputed_values)\n",
    "    return mse, mae\n",
    "\n",
    "# Load your time series data\n",
    "data = pd.read_csv('./datasets/dataset_mood_smartphone.csv')\n",
    "data = data[(data['variable'] == 'circumplex.valence') | (data['variable'] == 'circumplex.arousal')].dropna().sort_values(by = ['id', 'variable', 'time'])\n",
    "\n",
    "# Choose a percentage of values to randomly remove\n",
    "missing_percentage = 0.05  # for example, 20%\n",
    "\n",
    "# Randomly select indices to set as missing values\n",
    "np.random.seed(42)  # for reproducibility\n",
    "missing_indices = np.random.choice(data.index, size=int(len(data) * missing_percentage), replace=False)\n",
    "\n",
    "# Create a copy of the original data to work with\n",
    "data_missing = data.copy()\n",
    "\n",
    "# Set selected indices to NaN\n",
    "data_missing.loc[missing_indices, 'value'] = np.nan\n",
    "\n",
    "# Apply imputation methods to the dataset with missing values\n",
    "knn_impute(data_missing)\n",
    "locf_impute(data_missing)\n",
    "focb_impute(data_missing)\n",
    "mean_impute(data_missing)\n",
    "median_impute(data_missing)\n",
    "rolling_mean_impute(data_missing, window_size=5)  # Adjust window size as needed\n",
    "rolling_median_impute(data_missing, window_size=5)  # Adjust window size as needed\n",
    "\n",
    "# Calculate performance metrics (MSE and MAE) for each imputation method\n",
    "true_values = data['value']  # Original values from the complete dataset\n",
    "\n",
    "imputed_values_knn = data_missing['Value_KNN']\n",
    "imputed_values_locf = data_missing['Value_LOCF']\n",
    "imputed_values_focb = data_missing['Value_FOCB']\n",
    "imputed_values_mean = data_missing['Value_Mean']\n",
    "imputed_values_median = data_missing['Value_Median']\n",
    "imputed_values_rolling_mean = data_missing['Value_Rolling_Mean']\n",
    "imputed_values_rolling_median = data_missing['Value_Rolling_Median']\n",
    "\n",
    "mse_knn, mae_knn = calculate_metrics(true_values, imputed_values_knn)\n",
    "mse_locf, mae_locf = calculate_metrics(true_values, imputed_values_locf)\n",
    "mse_focb, mae_focb = calculate_metrics(true_values, imputed_values_focb)\n",
    "mse_mean, mae_mean = calculate_metrics(true_values, imputed_values_mean)\n",
    "mse_median, mae_median = calculate_metrics(true_values, imputed_values_median)\n",
    "mse_rolling_mean, mae_rolling_mean = calculate_metrics(true_values, imputed_values_rolling_mean)\n",
    "mse_rolling_median, mae_rolling_median = calculate_metrics(true_values, imputed_values_rolling_median)\n",
    "\n",
    "# Print or visualize performance metrics\n",
    "print(\"Performance Metrics:\")\n",
    "print(\"KNN - MSE:\", mse_knn, \"MAE:\", mae_knn)\n",
    "print(\"LOCF - MSE:\", mse_locf, \"MAE:\", mae_locf)\n",
    "print(\"FOCB - MSE:\", mse_focb, \"MAE:\", mae_focb)\n",
    "print(\"Mean - MSE:\", mse_mean, \"MAE:\", mae_mean)\n",
    "print(\"Median - MSE:\", mse_median, \"MAE:\", mae_median)\n",
    "print(\"Rolling Mean - MSE:\", mse_rolling_mean, \"MAE:\", mae_rolling_mean)\n",
    "print(\"Rolling Median - MSE:\", mse_rolling_median, \"MAE:\", mae_rolling_median)\n"
   ],
   "metadata": {
    "collapsed": false,
    "ExecuteTime": {
     "end_time": "2024-04-21T13:46:54.100799Z",
     "start_time": "2024-04-21T13:46:53.476826Z"
    }
   },
   "id": "22039440f41830ed"
  },
  {
   "cell_type": "code",
   "execution_count": 4,
   "outputs": [
    {
     "data": {
      "text/plain": "<Figure size 1000x600 with 1 Axes>",
      "image/png": "[encoded data removed]"
     },
     "metadata": {},
     "output_type": "display_data"
    }
   ],
   "source": [
    "import matplotlib.pyplot as plt\n",
    "\n",
    "# List of imputation methods and their MSE values\n",
    "methods = ['KNN', 'LOCF', 'FOCB', 'Mean', 'Median']\n",
    "mse_values = [mse_knn, mse_locf, mse_focb, mse_mean, mse_median]\n",
    "# Define the number of methods and their positions\n",
    "num_methods = len(methods)\n",
    "method_positions = range(num_methods)\n",
    "\n",
    "# Plotting the MSE values with narrow bars and closer spacing\n",
    "plt.figure(figsize=(10, 6))\n",
    "bar_width = 0.3  # Adjust the width of the bars\n",
    "bar_spacing = 0  # Adjust the spacing between the bars\n",
    "for i in method_positions:\n",
    "    plt.bar(method_positions[i], mse_values[i], color='blue', alpha=0.7, width=bar_width, label=methods[i])\n",
    "plt.ylabel('Mean Squared Error (MSE)')\n",
    "plt.title('MSE of Different Imputation Methods')\n",
    "plt.xticks(method_positions, methods, rotation=45, ha='right')\n",
    "plt.tight_layout()\n",
    "\n",
    "# Adjust the spacing between bars\n",
    "plt.subplots_adjust(left=0.1, right=0.9, top=0.9, bottom=0.1)\n",
    "\n",
    "plt.show()"
   ],
   "metadata": {
    "collapsed": false,
    "ExecuteTime": {
     "end_time": "2024-04-21T13:47:01.746162Z",
     "start_time": "2024-04-21T13:47:01.657707Z"
    }
   },
   "id": "e432dc3387753eac"
  },
  {
   "cell_type": "code",
   "execution_count": null,
   "outputs": [],
   "source": [],
   "metadata": {
    "collapsed": false
   },
   "id": "9f4c87289221b4a6"
  }
 ],
 "metadata": {
  "kernelspec": {
   "display_name": "Python 3",
   "language": "python",
   "name": "python3"
  },
  "language_info": {
   "codemirror_mode": {
    "name": "ipython",
    "version": 2
   },
   "file_extension": ".py",
   "mimetype": "text/x-python",
   "name": "python",
   "nbconvert_exporter": "python",
   "pygments_lexer": "ipython2",
   "version": "2.7.6"
  }
 },
 "nbformat": 4,
 "nbformat_minor": 5
}
